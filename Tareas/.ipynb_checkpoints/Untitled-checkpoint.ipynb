{
 "cells": [
  {
   "cell_type": "markdown",
   "id": "7a3d5b61-ac55-474c-9c85-8fa4678f70d6",
   "metadata": {},
   "source": [
    "variables"
   ]
  },
  {
   "cell_type": "code",
   "execution_count": 6,
   "id": "af75005c-f895-45bd-a5dc-21603a4df068",
   "metadata": {},
   "outputs": [],
   "source": [
    "nombreVariables = 124 #int \n",
    "b =  \"palabras\" #string\n",
    "PI = 3.14 #float\n",
    "C = \"a\" #char\n",
    "D = 2.23456790987654 #float"
   ]
  },
  {
   "cell_type": "code",
   "execution_count": 7,
   "id": "f735ff12-2c3b-4672-8f13-bcd02a29c620",
   "metadata": {},
   "outputs": [
    {
     "name": "stdout",
     "output_type": "stream",
     "text": [
      "<class 'int'>\n",
      "<class 'str'>\n",
      "<class 'float'>\n",
      "<class 'str'>\n"
     ]
    }
   ],
   "source": [
    "print(type(nombreVariables))\n",
    "print(type(b))\n",
    "print(type(D))\n",
    "print(type(C))"
   ]
  },
  {
   "cell_type": "markdown",
   "id": "0e75677e-ca22-4690-a461-15259800d433",
   "metadata": {},
   "source": [
    "edad=input(\"ingrese edad\"\n",
    "print(edad)"
   ]
  },
  {
   "cell_type": "code",
   "execution_count": null,
   "id": "ef6f1c1e-91e4-418e-815b-7e003d6f9090",
   "metadata": {},
   "outputs": [],
   "source": []
  },
  {
   "cell_type": "code",
   "execution_count": null,
   "id": "c55fb8a1-71f0-4c8d-bb38-e8cb06d637ed",
   "metadata": {},
   "outputs": [],
   "source": []
  },
  {
   "cell_type": "code",
   "execution_count": null,
   "id": "80584a11-cea0-4481-bfda-bca28da1d6b3",
   "metadata": {},
   "outputs": [],
   "source": []
  },
  {
   "cell_type": "code",
   "execution_count": null,
   "id": "7b593af0-af36-4e57-ba3f-74ddc93dedc3",
   "metadata": {},
   "outputs": [],
   "source": [
    "A = imput"
   ]
  }
 ],
 "metadata": {
  "kernelspec": {
   "display_name": "Python 3 (ipykernel)",
   "language": "python",
   "name": "python3"
  },
  "language_info": {
   "codemirror_mode": {
    "name": "ipython",
    "version": 3
   },
   "file_extension": ".py",
   "mimetype": "text/x-python",
   "name": "python",
   "nbconvert_exporter": "python",
   "pygments_lexer": "ipython3",
   "version": "3.12.9"
  }
 },
 "nbformat": 4,
 "nbformat_minor": 5
}
